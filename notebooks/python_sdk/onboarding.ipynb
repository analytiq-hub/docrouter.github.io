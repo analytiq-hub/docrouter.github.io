{
 "cells": [
  {
   "cell_type": "markdown",
   "metadata": {},
   "source": [
    "# DocRouter Python SDK - Onboarding Guide\n",
    "\n",
    "This notebook will help you get started with the DocRouter Python SDK. You'll learn how to:\n",
    "- Install the SDK\n",
    "- Set up authentication\n",
    "- Make your first API calls\n",
    "- Explore the main features"
   ]
  },
  {
   "cell_type": "markdown",
   "metadata": {},
   "source": [
    "## 1. Installation\n",
    "\n",
    "First, let's install the DocRouter SDK from PyPI:"
   ]
  },
  {
   "cell_type": "code",
   "execution_count": null,
   "metadata": {},
   "outputs": [],
   "source": [
    "!pip install docrouter_sdk"
   ]
  },
  {
   "cell_type": "markdown",
   "metadata": {},
   "source": [
    "## 2. Getting Your Credentials\n",
    "\n",
    "Before you can use the SDK, you'll need:\n",
    "\n",
    "1. **Organization ID**: Found in your DocRouter URL: `https://app.docrouter.ai/orgs/<your_org_id>`\n",
    "2. **Organization API Token**: Create one from your settings at `https://app.docrouter.ai/settings/user/developer/organization-access-tokens`\n",
    "\n",
    "\n",
    "\n",
    "Let's set these up as variables:"
   ]
  },
  {
   "cell_type": "code",
   "execution_count": null,
   "metadata": {},
   "outputs": [],
   "source": [
    "# Read credentials from .env file if available, otherwise use default value\n",
    "def get_creds(key_name, default_value=None):\n",
    "    try:\n",
    "        import os\n",
    "        from dotenv import load_dotenv\n",
    "        load_dotenv()\n",
    "        return os.getenv(key_name, default_value)\n",
    "    except Exception as e:\n",
    "        return default_value\n"
   ]
  },
  {
   "cell_type": "code",
   "execution_count": null,
   "metadata": {},
   "outputs": [],
   "source": [
    "# Replace these with your actual credentials\n",
    "DOCROUTER_API_URL = get_creds(\"DOCROUTER_API_URL\", \"https://app.docrouter.ai/fastapi\")\n",
    "DOCROUTER_ORG_ID = get_creds(\"DOCROUTER_ORG_ID\", \"your_org_id_here\") # Get this from your organization URL path\n",
    "DOCROUTER_ORG_API_TOKEN = get_creds(\"DOCROUTER_ORG_API_TOKEN\", \"org_api_token_here\")  # Get this from your organization settings\n"
   ]
  },
  {
   "cell_type": "markdown",
   "metadata": {},
   "source": [
    "## 3. Initialize the Client\n",
    "\n",
    "Now let's create a DocRouter client instance:"
   ]
  },
  {
   "cell_type": "code",
   "execution_count": null,
   "metadata": {},
   "outputs": [],
   "source": [
    "from docrouter_sdk import DocRouterClient\n",
    "\n",
    "# Initialize the client\n",
    "client = DocRouterClient(\n",
    "    base_url=DOCROUTER_API_URL,\n",
    "    api_token=DOCROUTER_ORG_API_TOKEN\n",
    ")\n",
    "\n",
    "print(\"✅ DocRouter client initialized successfully!\")"
   ]
  },
  {
   "cell_type": "markdown",
   "metadata": {},
   "source": [
    "## 4. List Your Documents\n",
    "\n",
    "Let's start by listing the documents in your workspace:"
   ]
  },
  {
   "cell_type": "code",
   "execution_count": null,
   "metadata": {},
   "outputs": [],
   "source": [
    "# List documents\n",
    "document_list = client.documents.list(DOCROUTER_ORG_ID, limit=10)\n",
    "\n",
    "print(f\"Found {document_list.total_count} documents in your workspace\\n\")\n",
    "\n",
    "# Display first few documents\n",
    "if document_list.documents:\n",
    "    print(\"First documents:\")\n",
    "    for doc in document_list.documents[:5]:\n",
    "        print(f\"  - {doc.document_name} (ID: {doc.id})\")\n",
    "else:\n",
    "    print(\"No documents found. Upload some documents to get started!\")"
   ]
  },
  {
   "cell_type": "markdown",
   "metadata": {},
   "source": [
    "## 5. List Your Tags\n",
    "\n",
    "Tags help organize your documents:"
   ]
  },
  {
   "cell_type": "code",
   "execution_count": null,
   "metadata": {},
   "outputs": [],
   "source": [
    "# List tags\n",
    "tag_list = client.tags.list(DOCROUTER_ORG_ID)\n",
    "\n",
    "print(f\"Found {tag_list.total_count} tags\\n\")\n",
    "\n",
    "if tag_list.tags:\n",
    "    print(\"Your tags:\")\n",
    "    for tag in tag_list.tags:\n",
    "        print(f\"  - {tag.name} (color: {tag.color})\")\n",
    "else:\n",
    "    print(\"No tags found. Create some tags to organize your documents!\")"
   ]
  },
  {
   "cell_type": "markdown",
   "metadata": {},
   "source": [
    "## 6. Working with a Document\n",
    "\n",
    "If you have documents, let's explore one in detail:"
   ]
  },
  {
   "cell_type": "code",
   "execution_count": null,
   "metadata": {},
   "outputs": [],
   "source": [
    "# Get the first document (if available)\n",
    "if document_list.documents:\n",
    "    doc = document_list.documents[0]\n",
    "    print(f\"Working with document: {doc.document_name}\")\n",
    "    print(f\"Document ID: {doc.id}\")\n",
    "    print(f\"Upload date: {doc.upload_date}\")\n",
    "    print(f\"Tags: {doc.tag_ids}\")\n",
    "    \n",
    "    # Get OCR metadata\n",
    "    try:\n",
    "        ocr_metadata = client.ocr.get_metadata(DOCROUTER_ORG_ID, doc.document_id)\n",
    "        print(f\"\\nOCR Info:\")\n",
    "        print(f\"  - Number of pages: {ocr_metadata.n_pages}\")\n",
    "    except Exception as e:\n",
    "        print(f\"\\nOCR not available for this document: {str(e)}\")\n",
    "else:\n",
    "    print(\"No documents available to explore.\")"
   ]
  },
  {
   "cell_type": "markdown",
   "metadata": {},
   "source": [
    "## 7. List Your Prompts\n",
    "\n",
    "Prompts define how to extract information from documents:"
   ]
  },
  {
   "cell_type": "code",
   "execution_count": null,
   "metadata": {},
   "outputs": [],
   "source": [
    "# List prompts\n",
    "prompt_list = client.prompts.list(DOCROUTER_ORG_ID)\n",
    "\n",
    "print(f\"Found {prompt_list.total_count} prompts\\n\")\n",
    "\n",
    "if prompt_list.prompts:\n",
    "    print(\"Your prompts:\")\n",
    "    for prompt in prompt_list.prompts:\n",
    "        print(f\"  - {prompt.name} (ID: {prompt.prompt_id})\")\n",
    "        print(f\"    Model: {prompt.model}\")\n",
    "else:\n",
    "    print(\"No prompts found. Create prompts to extract structured data from documents!\")"
   ]
  },
  {
   "cell_type": "markdown",
   "metadata": {},
   "source": [
    "## 8. List Your Schemas\n",
    "\n",
    "Schemas define the structure of extracted data:"
   ]
  },
  {
   "cell_type": "code",
   "execution_count": null,
   "metadata": {},
   "outputs": [],
   "source": [
    "# List schemas\n",
    "schema_list = client.schemas.list(DOCROUTER_ORG_ID)\n",
    "\n",
    "print(f\"Found {schema_list.total_count} schemas\\n\")\n",
    "\n",
    "if schema_list.schemas:\n",
    "    print(\"Your schemas:\")\n",
    "    for schema in schema_list.schemas:\n",
    "        print(f\"  - {schema.name} (ID: {schema.schema_id})\")\n",
    "else:\n",
    "    print(\"No schemas found. Create schemas to define extraction structures!\")"
   ]
  },
  {
   "cell_type": "markdown",
   "metadata": {},
   "source": [
    "## Next Steps\n",
    "\n",
    "Congratulations! You've successfully:\n",
    "- ✅ Installed the DocRouter SDK\n",
    "- ✅ Authenticated with the API\n",
    "- ✅ Explored your documents, tags, prompts, and schemas\n",
    "- ✅ Made your first API calls\n",
    "\n",
    "### What to explore next:\n",
    "\n",
    "1. **Upload documents**: Use `client.documents.upload()` to add new documents\n",
    "2. **Run LLM analysis**: Use `client.llm.run()` to extract data from documents\n",
    "3. **Create schemas and prompts**: Define custom extraction workflows\n",
    "4. **Get OCR data**: Extract text and blocks from documents\n",
    "\n",
    "Check out the [full documentation](https://docrouter.ai/python-sdk) for more examples and detailed API reference."
   ]
  }
 ],
 "metadata": {
  "kernelspec": {
   "display_name": ".venv",
   "language": "python",
   "name": "python3"
  },
  "language_info": {
   "codemirror_mode": {
    "name": "ipython",
    "version": 3
   },
   "file_extension": ".py",
   "mimetype": "text/x-python",
   "name": "python",
   "nbconvert_exporter": "python",
   "pygments_lexer": "ipython3",
   "version": "3.11.10"
  }
 },
 "nbformat": 4,
 "nbformat_minor": 4
}
