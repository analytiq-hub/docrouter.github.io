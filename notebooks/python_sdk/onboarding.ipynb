{
 "cells": [
  {
   "cell_type": "markdown",
   "metadata": {},
   "source": [
    "# DocRouter Python SDK - Onboarding Guide\n",
    "\n",
    "This notebook will help you get started with the DocRouter Python SDK. You'll learn how to:\n",
    "- Install the SDK\n",
    "- Set up authentication\n",
    "- Make your first API calls\n",
    "- Explore the main features"
   ]
  },
  {
   "cell_type": "markdown",
   "metadata": {},
   "source": [
    "## 1. Installation\n",
    "\n",
    "First, let's install the DocRouter SDK from PyPI:"
   ]
  },
  {
   "cell_type": "code",
   "execution_count": null,
   "metadata": {},
   "outputs": [],
   "source": [
    "!pip install docrouter_sdk"
   ]
  },
  {
   "cell_type": "markdown",
   "metadata": {},
   "source": [
    "## 2. Getting Your Credentials\n",
    "\n",
    "Before you can use the SDK, you'll need:\n",
    "\n",
    "1. **Organization ID**: Found in your DocRouter URL: `https://app.docrouter.ai/orgs/<your_org_id>`\n",
    "2. **API Token**: Create one from your organization settings at `https://app.docrouter.ai/orgs/<your_org_id>/settings`\n",
    "\n",
    "Let's set these up as variables:"
   ]
  },
  {
   "cell_type": "code",
   "execution_count": null,
   "metadata": {},
   "outputs": [],
   "source": [
    "# Replace these with your actual credentials\n",
    "DOCROUTER_API_URL = \"https://app.docrouter.ai/fastapi\"\n",
    "DOCROUTER_API_TOKEN = \"your_api_token_here\"  # Get this from your org settings\n",
    "ORGANIZATION_ID = \"your_organization_id_here\"  # Get this from your URL"
   ]
  },
  {
   "cell_type": "markdown",
   "metadata": {},
   "source": [
    "## 3. Initialize the Client\n",
    "\n",
    "Now let's create a DocRouter client instance:"
   ]
  },
  {
   "cell_type": "code",
   "execution_count": null,
   "metadata": {},
   "outputs": [],
   "source": [
    "from docrouter_sdk import DocRouterClient\n",
    "\n",
    "# Initialize the client\n",
    "client = DocRouterClient(\n",
    "    base_url=DOCROUTER_API_URL,\n",
    "    api_token=DOCROUTER_API_TOKEN\n",
    ")\n",
    "\n",
    "print(\"✅ DocRouter client initialized successfully!\")"
   ]
  },
  {
   "cell_type": "markdown",
   "metadata": {},
   "source": [
    "## 4. List Your Documents\n",
    "\n",
    "Let's start by listing the documents in your workspace:"
   ]
  },
  {
   "cell_type": "code",
   "execution_count": null,
   "metadata": {},
   "outputs": [],
   "source": [
    "# List documents\n",
    "documents = client.documents.list(ORGANIZATION_ID, limit=10)\n",
    "\n",
    "print(f\"Found {documents.total_count} documents in your workspace\\n\")\n",
    "\n",
    "# Display first few documents\n",
    "if documents.results:\n",
    "    print(\"First documents:\")\n",
    "    for doc in documents.results[:5]:\n",
    "        print(f\"  - {doc.document_name} (ID: {doc.document_id})\")\n",
    "else:\n",
    "    print(\"No documents found. Upload some documents to get started!\")"
   ]
  },
  {
   "cell_type": "markdown",
   "metadata": {},
   "source": [
    "## 5. List Your Tags\n",
    "\n",
    "Tags help organize your documents:"
   ]
  },
  {
   "cell_type": "code",
   "execution_count": null,
   "metadata": {},
   "outputs": [],
   "source": [
    "# List tags\n",
    "tags = client.tags.list(ORGANIZATION_ID)\n",
    "\n",
    "print(f\"Found {tags.total_count} tags\\n\")\n",
    "\n",
    "if tags.results:\n",
    "    print(\"Your tags:\")\n",
    "    for tag in tags.results:\n",
    "        print(f\"  - {tag.name} (color: {tag.color})\")\n",
    "else:\n",
    "    print(\"No tags found. Create some tags to organize your documents!\")"
   ]
  },
  {
   "cell_type": "markdown",
   "metadata": {},
   "source": [
    "## 6. Check Available LLM Models\n",
    "\n",
    "See which LLM models are available for document analysis:"
   ]
  },
  {
   "cell_type": "code",
   "execution_count": null,
   "metadata": {},
   "outputs": [],
   "source": [
    "# List available LLM models\n",
    "models = client.llm.list_models()\n",
    "\n",
    "print(\"Available LLM models:\\n\")\n",
    "for model in models.models:\n",
    "    print(f\"  - {model.name}\")"
   ]
  },
  {
   "cell_type": "markdown",
   "metadata": {},
   "source": [
    "## 7. Working with a Document\n",
    "\n",
    "If you have documents, let's explore one in detail:"
   ]
  },
  {
   "cell_type": "code",
   "execution_count": null,
   "metadata": {},
   "outputs": [],
   "source": [
    "# Get the first document (if available)\n",
    "if documents.results:\n",
    "    doc = documents.results[0]\n",
    "    print(f\"Working with document: {doc.document_name}\")\n",
    "    print(f\"Document ID: {doc.document_id}\")\n",
    "    print(f\"Upload date: {doc.upload_date}\")\n",
    "    print(f\"Tags: {doc.tag_ids}\")\n",
    "    \n",
    "    # Get OCR metadata\n",
    "    try:\n",
    "        ocr_metadata = client.ocr.get_metadata(ORGANIZATION_ID, doc.document_id)\n",
    "        print(f\"\\nOCR Info:\")\n",
    "        print(f\"  - Number of pages: {ocr_metadata.n_pages}\")\n",
    "    except Exception as e:\n",
    "        print(f\"\\nOCR not available for this document: {str(e)}\")\n",
    "else:\n",
    "    print(\"No documents available to explore.\")"
   ]
  },
  {
   "cell_type": "markdown",
   "metadata": {},
   "source": [
    "## 8. List Your Prompts\n",
    "\n",
    "Prompts define how to extract information from documents:"
   ]
  },
  {
   "cell_type": "code",
   "execution_count": null,
   "metadata": {},
   "outputs": [],
   "source": [
    "# List prompts\n",
    "prompts = client.prompts.list(ORGANIZATION_ID)\n",
    "\n",
    "print(f\"Found {prompts.total_count} prompts\\n\")\n",
    "\n",
    "if prompts.results:\n",
    "    print(\"Your prompts:\")\n",
    "    for prompt in prompts.results:\n",
    "        print(f\"  - {prompt.name} (ID: {prompt.prompt_id})\")\n",
    "        print(f\"    Model: {prompt.model}\")\n",
    "else:\n",
    "    print(\"No prompts found. Create prompts to extract structured data from documents!\")"
   ]
  },
  {
   "cell_type": "markdown",
   "metadata": {},
   "source": [
    "## 9. List Your Schemas\n",
    "\n",
    "Schemas define the structure of extracted data:"
   ]
  },
  {
   "cell_type": "code",
   "execution_count": null,
   "metadata": {},
   "outputs": [],
   "source": [
    "# List schemas\n",
    "schemas = client.schemas.list(ORGANIZATION_ID)\n",
    "\n",
    "print(f\"Found {schemas.total_count} schemas\\n\")\n",
    "\n",
    "if schemas.results:\n",
    "    print(\"Your schemas:\")\n",
    "    for schema in schemas.results:\n",
    "        print(f\"  - {schema.name} (ID: {schema.schema_id})\")\n",
    "else:\n",
    "    print(\"No schemas found. Create schemas to define extraction structures!\")"
   ]
  },
  {
   "cell_type": "markdown",
   "metadata": {},
   "source": [
    "## Next Steps\n",
    "\n",
    "Congratulations! You've successfully:\n",
    "- ✅ Installed the DocRouter SDK\n",
    "- ✅ Authenticated with the API\n",
    "- ✅ Explored your documents, tags, prompts, and schemas\n",
    "- ✅ Made your first API calls\n",
    "\n",
    "### What to explore next:\n",
    "\n",
    "1. **Upload documents**: Use `client.documents.upload()` to add new documents\n",
    "2. **Run LLM analysis**: Use `client.llm.run()` to extract data from documents\n",
    "3. **Create schemas and prompts**: Define custom extraction workflows\n",
    "4. **Get OCR data**: Extract text and blocks from documents\n",
    "\n",
    "Check out the [full documentation](https://docrouter.ai/python-sdk) for more examples and detailed API reference."
   ]
  }
 ],
 "metadata": {
  "kernelspec": {
   "display_name": "Python 3",
   "language": "python",
   "name": "python3"
  },
  "language_info": {
   "codemirror_mode": {
    "name": "ipython",
    "version": 3
   },
   "file_extension": ".py",
   "mimetype": "text/x-python",
   "name": "python",
   "nbconvert_exporter": "python",
   "pygments_lexer": "ipython3",
   "version": "3.8.0"
  }
 },
 "nbformat": 4,
 "nbformat_minor": 4
}