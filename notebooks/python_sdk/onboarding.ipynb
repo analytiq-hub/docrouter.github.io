{
 "cells": [
  {
   "cell_type": "markdown",
   "metadata": {},
   "source": [
    "# DocRouter Python SDK - Onboarding Guide\n",
    "\n",
    "This notebook will help you get started with the DocRouter Python SDK. You'll learn how to:\n",
    "- Install the SDK\n",
    "- Set up authentication\n",
    "- Make your first API calls\n",
    "- Explore the main features"
   ]
  },
  {
   "cell_type": "markdown",
   "metadata": {},
   "source": [
    "## 1. Installation\n",
    "\n",
    "First, let's install the DocRouter SDK from PyPI:"
   ]
  },
  {
   "cell_type": "code",
   "execution_count": 1,
   "metadata": {},
   "outputs": [
    {
     "name": "stdout",
     "output_type": "stream",
     "text": [
      "Collecting docrouter_sdk\n",
      "  Downloading docrouter_sdk-0.1.5-py3-none-any.whl.metadata (6.5 kB)\n",
      "Collecting pydantic>=2.0.0 (from docrouter_sdk)\n",
      "  Using cached pydantic-2.11.9-py3-none-any.whl.metadata (68 kB)\n",
      "Collecting requests>=2.31.0 (from docrouter_sdk)\n",
      "  Using cached requests-2.32.5-py3-none-any.whl.metadata (4.9 kB)\n",
      "Collecting annotated-types>=0.6.0 (from pydantic>=2.0.0->docrouter_sdk)\n",
      "  Using cached annotated_types-0.7.0-py3-none-any.whl.metadata (15 kB)\n",
      "Collecting pydantic-core==2.33.2 (from pydantic>=2.0.0->docrouter_sdk)\n",
      "  Using cached pydantic_core-2.33.2-cp313-cp313-manylinux_2_17_x86_64.manylinux2014_x86_64.whl.metadata (6.8 kB)\n",
      "Collecting typing-extensions>=4.12.2 (from pydantic>=2.0.0->docrouter_sdk)\n",
      "  Using cached typing_extensions-4.15.0-py3-none-any.whl.metadata (3.3 kB)\n",
      "Collecting typing-inspection>=0.4.0 (from pydantic>=2.0.0->docrouter_sdk)\n",
      "  Using cached typing_inspection-0.4.1-py3-none-any.whl.metadata (2.6 kB)\n",
      "Collecting charset_normalizer<4,>=2 (from requests>=2.31.0->docrouter_sdk)\n",
      "  Using cached charset_normalizer-3.4.3-cp313-cp313-manylinux2014_x86_64.manylinux_2_17_x86_64.manylinux_2_28_x86_64.whl.metadata (36 kB)\n",
      "Collecting idna<4,>=2.5 (from requests>=2.31.0->docrouter_sdk)\n",
      "  Using cached idna-3.10-py3-none-any.whl.metadata (10 kB)\n",
      "Collecting urllib3<3,>=1.21.1 (from requests>=2.31.0->docrouter_sdk)\n",
      "  Using cached urllib3-2.5.0-py3-none-any.whl.metadata (6.5 kB)\n",
      "Collecting certifi>=2017.4.17 (from requests>=2.31.0->docrouter_sdk)\n",
      "  Using cached certifi-2025.8.3-py3-none-any.whl.metadata (2.4 kB)\n",
      "Downloading docrouter_sdk-0.1.5-py3-none-any.whl (12 kB)\n",
      "Using cached pydantic-2.11.9-py3-none-any.whl (444 kB)\n",
      "Using cached pydantic_core-2.33.2-cp313-cp313-manylinux_2_17_x86_64.manylinux2014_x86_64.whl (2.0 MB)\n",
      "Using cached requests-2.32.5-py3-none-any.whl (64 kB)\n",
      "Using cached annotated_types-0.7.0-py3-none-any.whl (13 kB)\n",
      "Using cached certifi-2025.8.3-py3-none-any.whl (161 kB)\n",
      "Using cached charset_normalizer-3.4.3-cp313-cp313-manylinux2014_x86_64.manylinux_2_17_x86_64.manylinux_2_28_x86_64.whl (151 kB)\n",
      "Using cached idna-3.10-py3-none-any.whl (70 kB)\n",
      "Using cached typing_extensions-4.15.0-py3-none-any.whl (44 kB)\n",
      "Using cached typing_inspection-0.4.1-py3-none-any.whl (14 kB)\n",
      "Using cached urllib3-2.5.0-py3-none-any.whl (129 kB)\n",
      "Installing collected packages: urllib3, typing-extensions, idna, charset_normalizer, certifi, annotated-types, typing-inspection, requests, pydantic-core, pydantic, docrouter_sdk\n",
      "Successfully installed annotated-types-0.7.0 certifi-2025.8.3 charset_normalizer-3.4.3 docrouter_sdk-0.1.5 idna-3.10 pydantic-2.11.9 pydantic-core-2.33.2 requests-2.32.5 typing-extensions-4.15.0 typing-inspection-0.4.1 urllib3-2.5.0\n",
      "\n",
      "\u001b[1m[\u001b[0m\u001b[34;49mnotice\u001b[0m\u001b[1;39;49m]\u001b[0m\u001b[39;49m A new release of pip is available: \u001b[0m\u001b[31;49m24.2\u001b[0m\u001b[39;49m -> \u001b[0m\u001b[32;49m25.2\u001b[0m\n",
      "\u001b[1m[\u001b[0m\u001b[34;49mnotice\u001b[0m\u001b[1;39;49m]\u001b[0m\u001b[39;49m To update, run: \u001b[0m\u001b[32;49mpip install --upgrade pip\u001b[0m\n"
     ]
    }
   ],
   "source": [
    "!pip install docrouter_sdk"
   ]
  },
  {
   "cell_type": "markdown",
   "metadata": {},
   "source": [
    "## 2. Getting Your Credentials\n",
    "\n",
    "Before you can use the SDK, you'll need:\n",
    "\n",
    "1. **Organization ID**: Found in your DocRouter URL: `https://app.docrouter.ai/orgs/<your_org_id>`\n",
    "2. **Organization API Token**: Create one from your settings at `https://app.docrouter.ai/settings/user/developer/organization-access-tokens`\n",
    "\n",
    "\n",
    "\n",
    "Let's set these up as variables:"
   ]
  },
  {
   "cell_type": "code",
   "execution_count": null,
   "metadata": {},
   "outputs": [],
   "source": [
    "# Replace these with your actual credentials\n",
    "DOCROUTER_API_URL = \"https://app.docrouter.ai/fastapi\"\n",
    "DOCROUTER_ORG_ID = \"your_org_id_here\" # Get this from your organization URL path\n",
    "DOCROUTER_ORG_API_TOKEN = \"org_api_token_here\"  # Get this from your organization settings\n"
   ]
  },
  {
   "cell_type": "markdown",
   "metadata": {},
   "source": [
    "## 3. Initialize the Client\n",
    "\n",
    "Now let's create a DocRouter client instance:"
   ]
  },
  {
   "cell_type": "code",
   "execution_count": null,
   "metadata": {},
   "outputs": [],
   "source": [
    "from docrouter_sdk import DocRouterClient\n",
    "\n",
    "# Initialize the client\n",
    "client = DocRouterClient(\n",
    "    base_url=DOCROUTER_API_URL,\n",
    "    api_token=DOCROUTER_ORG_API_TOKEN\n",
    ")\n",
    "\n",
    "print(\"✅ DocRouter client initialized successfully!\")"
   ]
  },
  {
   "cell_type": "markdown",
   "metadata": {},
   "source": [
    "## 4. List Your Documents\n",
    "\n",
    "Let's start by listing the documents in your workspace:"
   ]
  },
  {
   "cell_type": "code",
   "execution_count": null,
   "metadata": {},
   "outputs": [],
   "source": [
    "# List documents\n",
    "documents = client.documents.list(DOCROUTER_ORG_ID, limit=10)\n",
    "\n",
    "print(f\"Found {documents.total_count} documents in your workspace\\n\")\n",
    "\n",
    "# Display first few documents\n",
    "if documents.results:\n",
    "    print(\"First documents:\")\n",
    "    for doc in documents.results[:5]:\n",
    "        print(f\"  - {doc.document_name} (ID: {doc.document_id})\")\n",
    "else:\n",
    "    print(\"No documents found. Upload some documents to get started!\")"
   ]
  },
  {
   "cell_type": "markdown",
   "metadata": {},
   "source": [
    "## 5. List Your Tags\n",
    "\n",
    "Tags help organize your documents:"
   ]
  },
  {
   "cell_type": "code",
   "execution_count": null,
   "metadata": {},
   "outputs": [],
   "source": [
    "# List tags\n",
    "tags = client.tags.list(DOCROUTER_ORG_ID)\n",
    "\n",
    "print(f\"Found {tags.total_count} tags\\n\")\n",
    "\n",
    "if tags.results:\n",
    "    print(\"Your tags:\")\n",
    "    for tag in tags.results:\n",
    "        print(f\"  - {tag.name} (color: {tag.color})\")\n",
    "else:\n",
    "    print(\"No tags found. Create some tags to organize your documents!\")"
   ]
  },
  {
   "cell_type": "markdown",
   "metadata": {},
   "source": [
    "## 6. Check Available LLM Models\n",
    "\n",
    "See which LLM models are available for document analysis:"
   ]
  },
  {
   "cell_type": "code",
   "execution_count": null,
   "metadata": {},
   "outputs": [],
   "source": [
    "# List available LLM models\n",
    "models = client.llm.list_models()\n",
    "\n",
    "print(\"Available LLM models:\\n\")\n",
    "for model in models.models:\n",
    "    print(f\"  - {model.name}\")"
   ]
  },
  {
   "cell_type": "markdown",
   "metadata": {},
   "source": [
    "## 7. Working with a Document\n",
    "\n",
    "If you have documents, let's explore one in detail:"
   ]
  },
  {
   "cell_type": "code",
   "execution_count": null,
   "metadata": {},
   "outputs": [],
   "source": [
    "# Get the first document (if available)\n",
    "if documents.results:\n",
    "    doc = documents.results[0]\n",
    "    print(f\"Working with document: {doc.document_name}\")\n",
    "    print(f\"Document ID: {doc.document_id}\")\n",
    "    print(f\"Upload date: {doc.upload_date}\")\n",
    "    print(f\"Tags: {doc.tag_ids}\")\n",
    "    \n",
    "    # Get OCR metadata\n",
    "    try:\n",
    "        ocr_metadata = client.ocr.get_metadata(DOCROUTER_ORG_ID, doc.document_id)\n",
    "        print(f\"\\nOCR Info:\")\n",
    "        print(f\"  - Number of pages: {ocr_metadata.n_pages}\")\n",
    "    except Exception as e:\n",
    "        print(f\"\\nOCR not available for this document: {str(e)}\")\n",
    "else:\n",
    "    print(\"No documents available to explore.\")"
   ]
  },
  {
   "cell_type": "markdown",
   "metadata": {},
   "source": [
    "## 8. List Your Prompts\n",
    "\n",
    "Prompts define how to extract information from documents:"
   ]
  },
  {
   "cell_type": "code",
   "execution_count": null,
   "metadata": {},
   "outputs": [],
   "source": [
    "# List prompts\n",
    "prompts = client.prompts.list(DOCROUTER_ORG_ID)\n",
    "\n",
    "print(f\"Found {prompts.total_count} prompts\\n\")\n",
    "\n",
    "if prompts.results:\n",
    "    print(\"Your prompts:\")\n",
    "    for prompt in prompts.results:\n",
    "        print(f\"  - {prompt.name} (ID: {prompt.prompt_id})\")\n",
    "        print(f\"    Model: {prompt.model}\")\n",
    "else:\n",
    "    print(\"No prompts found. Create prompts to extract structured data from documents!\")"
   ]
  },
  {
   "cell_type": "markdown",
   "metadata": {},
   "source": [
    "## 9. List Your Schemas\n",
    "\n",
    "Schemas define the structure of extracted data:"
   ]
  },
  {
   "cell_type": "code",
   "execution_count": null,
   "metadata": {},
   "outputs": [],
   "source": [
    "# List schemas\n",
    "schemas = client.schemas.list(DOCROUTER_ORG_ID)\n",
    "\n",
    "print(f\"Found {schemas.total_count} schemas\\n\")\n",
    "\n",
    "if schemas.results:\n",
    "    print(\"Your schemas:\")\n",
    "    for schema in schemas.results:\n",
    "        print(f\"  - {schema.name} (ID: {schema.schema_id})\")\n",
    "else:\n",
    "    print(\"No schemas found. Create schemas to define extraction structures!\")"
   ]
  },
  {
   "cell_type": "markdown",
   "metadata": {},
   "source": [
    "## Next Steps\n",
    "\n",
    "Congratulations! You've successfully:\n",
    "- ✅ Installed the DocRouter SDK\n",
    "- ✅ Authenticated with the API\n",
    "- ✅ Explored your documents, tags, prompts, and schemas\n",
    "- ✅ Made your first API calls\n",
    "\n",
    "### What to explore next:\n",
    "\n",
    "1. **Upload documents**: Use `client.documents.upload()` to add new documents\n",
    "2. **Run LLM analysis**: Use `client.llm.run()` to extract data from documents\n",
    "3. **Create schemas and prompts**: Define custom extraction workflows\n",
    "4. **Get OCR data**: Extract text and blocks from documents\n",
    "\n",
    "Check out the [full documentation](https://docrouter.ai/python-sdk) for more examples and detailed API reference."
   ]
  }
 ],
 "metadata": {
  "kernelspec": {
   "display_name": ".venv",
   "language": "python",
   "name": "python3"
  },
  "language_info": {
   "codemirror_mode": {
    "name": "ipython",
    "version": 3
   },
   "file_extension": ".py",
   "mimetype": "text/x-python",
   "name": "python",
   "nbconvert_exporter": "python",
   "pygments_lexer": "ipython3",
   "version": "3.13.7"
  }
 },
 "nbformat": 4,
 "nbformat_minor": 4
}
